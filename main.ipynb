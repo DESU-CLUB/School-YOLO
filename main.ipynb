{
  "nbformat": 4,
  "nbformat_minor": 0,
  "metadata": {
    "colab": {
      "name": "main.ipynb",
      "provenance": []
    },
    "kernelspec": {
      "name": "python3",
      "display_name": "Python 3"
    }
  },
  "cells": [
    {
      "cell_type": "markdown",
      "metadata": {
        "id": "oJA589UPRI96",
        "colab_type": "text"
      },
      "source": [
        "# Quick Start: \n",
        "##Terminology: Cell: A cell is a segment of code in Colab\n",
        "\n",
        "## Step 1\n",
        " 1) First, go to 'Runtime' in the Toolbar (Right below the name of the file).  \n",
        " 2) Click on 'Change Runtime Type'.  \n",
        " 3) Click on the Hardware Accelerator Option and Select 'GPU'.\n",
        "\n",
        " Now you have a working GPU \n",
        "\n",
        " ## Step 2\n",
        " 1) Edit the code a bit: Change the path name in the first cell, line 3 to  \n",
        " ```\n",
        " %cd (path name to the School YOLO file)  \n",
        " ```\n",
        "\n",
        " 2) Run the code provided in sequential order, from the first cell after this to the last cell.  \n",
        " 3) Note: This can be done easily via Shift+Enter, or just click on the 'Play' Sign, in the square brackets on the top left hand corner of each cell.\n",
        "\n",
        " ## Step 3: Let the code run\n",
        " ### Some Common Errors:\n",
        " #### Did the code run without processing anything? \n",
        " ##### Chances are you didn't write the correct file path\n",
        "  \n",
        "<br>\n",
        "\n",
        "#### Does the input not show up after a long while (~2-4 mins)? \n",
        "#####Try going to 'Runtime', Click 'Restart Runtime' and run all the code again.   \n",
        "<br>\n",
        "\n",
        "#### Did Colab time-out? \n",
        "#####If so, either refresh the page or click 'Restart Runtime' and run the code again.\n",
        "\n",
        "<br>\n",
        "\n",
        "#### Is there a bad pointer error? \n",
        "##### Do not worry, try running the code again, as Google Colab's API is still a bit rough around the edges with symlinking with Google Drive files\n",
        "<br>\n",
        "\n",
        "## If any other error is shown, please raise an issue on the Github repository, and show the input and output so that we can reproduce the issue\n",
        "\n"
      ]
    },
    {
      "cell_type": "code",
      "metadata": {
        "id": "y89EhTQBQjHE",
        "colab_type": "code",
        "colab": {}
      },
      "source": [
        "from google.colab import drive\n",
        "drive.mount('/content/drive/')\n",
        "%cd '/content/drive/My Drive/School_YOLO'\n",
        "# For %cd, change it to the path name of the School_Yolo folder\n",
        "%tensorflow_version 1.x\n"
      ],
      "execution_count": null,
      "outputs": []
    },
    {
      "cell_type": "code",
      "metadata": {
        "id": "4uAFallVQlF3",
        "colab_type": "code",
        "colab": {}
      },
      "source": [
        "!/opt/bin/nvidia-smi\n",
        "#Checks what GPU you have"
      ],
      "execution_count": null,
      "outputs": []
    },
    {
      "cell_type": "code",
      "metadata": {
        "id": "YQ_trvz5QnTK",
        "colab_type": "code",
        "colab": {}
      },
      "source": [
        "#Yolo\n",
        "%run Combined_GUI.py\n"
      ],
      "execution_count": null,
      "outputs": []
    }
  ]
}
